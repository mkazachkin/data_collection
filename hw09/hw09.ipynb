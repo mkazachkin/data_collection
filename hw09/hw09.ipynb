{
 "cells": [
  {
   "cell_type": "code",
   "execution_count": 25,
   "metadata": {},
   "outputs": [],
   "source": [
    "import pandas as pd\n"
   ]
  },
  {
   "attachments": {},
   "cell_type": "markdown",
   "metadata": {},
   "source": [
    "# Задание 1.\n",
    "Выберите датасет, который имеет отношение к вашей области интересов или исследований. Датасет должен содержать неструктурированные данные, требующие разметки для решения конкретной задачи, например, анализа настроений или распознавания именованных сущностей."
   ]
  },
  {
   "attachments": {},
   "cell_type": "markdown",
   "metadata": {},
   "source": [
    "Выбран датасет Metacritic Scores for Games, Movies, TV & Music. [Источник](https://www.kaggle.com/datasets/patkle/metacritic-scores-for-games-movies-tv-and-music)."
   ]
  },
  {
   "cell_type": "code",
   "execution_count": 26,
   "metadata": {},
   "outputs": [
    {
     "data": {
      "text/html": [
       "<div>\n",
       "<style scoped>\n",
       "    .dataframe tbody tr th:only-of-type {\n",
       "        vertical-align: middle;\n",
       "    }\n",
       "\n",
       "    .dataframe tbody tr th {\n",
       "        vertical-align: top;\n",
       "    }\n",
       "\n",
       "    .dataframe thead th {\n",
       "        text-align: right;\n",
       "    }\n",
       "</style>\n",
       "<table border=\"1\" class=\"dataframe\">\n",
       "  <thead>\n",
       "    <tr style=\"text-align: right;\">\n",
       "      <th></th>\n",
       "      <th>id</th>\n",
       "      <th>metascore</th>\n",
       "      <th>platform</th>\n",
       "      <th>release_date</th>\n",
       "      <th>sort_no</th>\n",
       "      <th>summary</th>\n",
       "      <th>title</th>\n",
       "      <th>user_score</th>\n",
       "    </tr>\n",
       "  </thead>\n",
       "  <tbody>\n",
       "    <tr>\n",
       "      <th>0</th>\n",
       "      <td>543718</td>\n",
       "      <td>91</td>\n",
       "      <td>PC</td>\n",
       "      <td>August 18, 2020</td>\n",
       "      <td>301</td>\n",
       "      <td>From light planes to wide-body jets, fly highl...</td>\n",
       "      <td>Microsoft Flight Simulator</td>\n",
       "      <td>7.1</td>\n",
       "    </tr>\n",
       "    <tr>\n",
       "      <th>1</th>\n",
       "      <td>555108</td>\n",
       "      <td>91</td>\n",
       "      <td>PC</td>\n",
       "      <td>December 8, 2022</td>\n",
       "      <td>302</td>\n",
       "      <td>Take up your sword, channel your magic or boar...</td>\n",
       "      <td>Chained Echoes</td>\n",
       "      <td>8.7</td>\n",
       "    </tr>\n",
       "    <tr>\n",
       "      <th>2</th>\n",
       "      <td>106820</td>\n",
       "      <td>91</td>\n",
       "      <td>PlayStation 2</td>\n",
       "      <td>November 7, 2005</td>\n",
       "      <td>303</td>\n",
       "      <td>Strap on your Guitar Hero SG controller, plug-...</td>\n",
       "      <td>Guitar Hero</td>\n",
       "      <td>8.5</td>\n",
       "    </tr>\n",
       "    <tr>\n",
       "      <th>3</th>\n",
       "      <td>110775</td>\n",
       "      <td>91</td>\n",
       "      <td>PC</td>\n",
       "      <td>November 13, 2008</td>\n",
       "      <td>304</td>\n",
       "      <td>Players last visited Northrend in \"Warcraft II...</td>\n",
       "      <td>World of Warcraft: Wrath of the Lich King</td>\n",
       "      <td>7.7</td>\n",
       "    </tr>\n",
       "    <tr>\n",
       "      <th>4</th>\n",
       "      <td>142864</td>\n",
       "      <td>91</td>\n",
       "      <td>Wii</td>\n",
       "      <td>October 26, 2010</td>\n",
       "      <td>305</td>\n",
       "      <td>Rock Band returns with the third iteration of ...</td>\n",
       "      <td>Rock Band 3</td>\n",
       "      <td>6.8</td>\n",
       "    </tr>\n",
       "  </tbody>\n",
       "</table>\n",
       "</div>"
      ],
      "text/plain": [
       "       id  metascore       platform       release_date  sort_no  \\\n",
       "0  543718         91             PC    August 18, 2020      301   \n",
       "1  555108         91             PC   December 8, 2022      302   \n",
       "2  106820         91  PlayStation 2   November 7, 2005      303   \n",
       "3  110775         91             PC  November 13, 2008      304   \n",
       "4  142864         91            Wii   October 26, 2010      305   \n",
       "\n",
       "                                             summary  \\\n",
       "0  From light planes to wide-body jets, fly highl...   \n",
       "1  Take up your sword, channel your magic or boar...   \n",
       "2  Strap on your Guitar Hero SG controller, plug-...   \n",
       "3  Players last visited Northrend in \"Warcraft II...   \n",
       "4  Rock Band returns with the third iteration of ...   \n",
       "\n",
       "                                       title user_score  \n",
       "0                 Microsoft Flight Simulator        7.1  \n",
       "1                             Chained Echoes        8.7  \n",
       "2                                Guitar Hero        8.5  \n",
       "3  World of Warcraft: Wrath of the Lich King        7.7  \n",
       "4                                Rock Band 3        6.8  "
      ]
     },
     "execution_count": 26,
     "metadata": {},
     "output_type": "execute_result"
    }
   ],
   "source": [
    "df_critic = pd.read_csv('data/games.csv', engine='python', on_bad_lines='skip')\n",
    "df_critic.head()\n"
   ]
  },
  {
   "attachments": {},
   "cell_type": "markdown",
   "metadata": {},
   "source": [
    "Для анализа настроения текста на английском языке использован датасет Sentiment Analysis Word Lists Dataset. [Источник](https://www.kaggle.com/datasets/prajwalkanade/sentiment-analysis-word-lists-dataset)."
   ]
  },
  {
   "cell_type": "code",
   "execution_count": 28,
   "metadata": {},
   "outputs": [
    {
     "data": {
      "text/html": [
       "<div>\n",
       "<style scoped>\n",
       "    .dataframe tbody tr th:only-of-type {\n",
       "        vertical-align: middle;\n",
       "    }\n",
       "\n",
       "    .dataframe tbody tr th {\n",
       "        vertical-align: top;\n",
       "    }\n",
       "\n",
       "    .dataframe thead th {\n",
       "        text-align: right;\n",
       "    }\n",
       "</style>\n",
       "<table border=\"1\" class=\"dataframe\">\n",
       "  <thead>\n",
       "    <tr style=\"text-align: right;\">\n",
       "      <th></th>\n",
       "      <th>word</th>\n",
       "      <th>sentiment</th>\n",
       "    </tr>\n",
       "  </thead>\n",
       "  <tbody>\n",
       "    <tr>\n",
       "      <th>0</th>\n",
       "      <td>2-faced</td>\n",
       "      <td>negative</td>\n",
       "    </tr>\n",
       "    <tr>\n",
       "      <th>1</th>\n",
       "      <td>2-faces</td>\n",
       "      <td>negative</td>\n",
       "    </tr>\n",
       "    <tr>\n",
       "      <th>2</th>\n",
       "      <td>abnormal</td>\n",
       "      <td>negative</td>\n",
       "    </tr>\n",
       "    <tr>\n",
       "      <th>3</th>\n",
       "      <td>abolish</td>\n",
       "      <td>negative</td>\n",
       "    </tr>\n",
       "    <tr>\n",
       "      <th>4</th>\n",
       "      <td>abominable</td>\n",
       "      <td>negative</td>\n",
       "    </tr>\n",
       "  </tbody>\n",
       "</table>\n",
       "</div>"
      ],
      "text/plain": [
       "         word sentiment\n",
       "0     2-faced  negative\n",
       "1     2-faces  negative\n",
       "2    abnormal  negative\n",
       "3     abolish  negative\n",
       "4  abominable  negative"
      ]
     },
     "execution_count": 28,
     "metadata": {},
     "output_type": "execute_result"
    }
   ],
   "source": [
    "with open('data/negative-words.txt') as f_neg:\n",
    "    negative_words = f_neg.read().splitlines()\n",
    "\n",
    "with open('data/positive-words.txt') as f_pos:\n",
    "    positive_words = f_pos.read().splitlines()\n",
    "\n",
    "all_words = negative_words + positive_words\n",
    "\n",
    "df_words = pd.DataFrame({'word': all_words})\n",
    "df_words['sentiment'] = 'positive'\n",
    "df_words.loc[df_words['word'].isin(negative_words), 'sentiment'] = 'negative'\n",
    "\n",
    "df_words.head()\n"
   ]
  },
  {
   "attachments": {},
   "cell_type": "markdown",
   "metadata": {},
   "source": [
    "# Задание 2.\n",
    "Выполните разметку на основе правил (rule-based labeling) на подмножестве выбранного датасета. Разработайте и реализуйте набор правил или условий, которые позволят автоматически присваивать метки данным на основе определенных шаблонов или критериев."
   ]
  },
  {
   "attachments": {},
   "cell_type": "markdown",
   "metadata": {},
   "source": [
    "https://github.com/TanXmas/gb_StudyCourse_DataLabeling/blob/master/S09/S09HW.ipynb"
   ]
  }
 ],
 "metadata": {
  "kernelspec": {
   "display_name": "Python 3",
   "language": "python",
   "name": "python3"
  },
  "language_info": {
   "codemirror_mode": {
    "name": "ipython",
    "version": 3
   },
   "file_extension": ".py",
   "mimetype": "text/x-python",
   "name": "python",
   "nbconvert_exporter": "python",
   "pygments_lexer": "ipython3",
   "version": "3.9.18"
  },
  "orig_nbformat": 4
 },
 "nbformat": 4,
 "nbformat_minor": 2
}
